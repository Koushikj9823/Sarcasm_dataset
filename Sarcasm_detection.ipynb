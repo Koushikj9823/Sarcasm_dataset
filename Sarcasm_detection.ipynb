{
  "nbformat": 4,
  "nbformat_minor": 0,
  "metadata": {
    "colab": {
      "name": "Sarcasm-detection.ipynb",
      "version": "0.3.2",
      "provenance": [],
      "collapsed_sections": [],
      "toc_visible": true
    },
    "kernelspec": {
      "name": "python3",
      "display_name": "Python 3"
    }
  },
  "cells": [
    {
      "cell_type": "code",
      "metadata": {
        "id": "sRSJAqTQ6316",
        "colab_type": "code",
        "colab": {}
      },
      "source": [
        "#Losding the data\n",
        "import json \n",
        "dataset = []\n",
        "with open(\"/content/drive/My Drive/NLP/Sarcasm_Headlines_Dataset.json\",'r') as f:\n",
        "    for line in f:\n",
        "        dataset.append(json.loads(line))"
      ],
      "execution_count": 0,
      "outputs": []
    },
    {
      "cell_type": "code",
      "metadata": {
        "id": "uv7TUjUe9gcw",
        "colab_type": "code",
        "outputId": "b8dafcb1-02ad-4e86-fd7c-cf22ff061ee6",
        "colab": {
          "base_uri": "https://localhost:8080/",
          "height": 68
        }
      },
      "source": [
        "#Dataset content and format\n",
        "dataset[23]"
      ],
      "execution_count": 2,
      "outputs": [
        {
          "output_type": "execute_result",
          "data": {
            "text/plain": [
              "{'article_link': 'https://www.huffingtonpost.comhttp://pubx.co/dnWZew',\n",
              " 'headline': \"this is why you shouldn't go to the circus\",\n",
              " 'is_sarcastic': 0}"
            ]
          },
          "metadata": {
            "tags": []
          },
          "execution_count": 2
        }
      ]
    },
    {
      "cell_type": "code",
      "metadata": {
        "id": "7Q0GJ8DM9lvR",
        "colab_type": "code",
        "colab": {}
      },
      "source": [
        "#Making the list of sentences,url and labels\n",
        "sentences = []\n",
        "labels = []\n",
        "url = []\n",
        "for data in dataset:\n",
        "    url.append(data['article_link'])\n",
        "    sentences.append(data['headline'])\n",
        "    labels.append(data['is_sarcastic'])"
      ],
      "execution_count": 0,
      "outputs": []
    },
    {
      "cell_type": "code",
      "metadata": {
        "id": "u-uNMV24Bi4H",
        "colab_type": "code",
        "colab": {
          "base_uri": "https://localhost:8080/",
          "height": 34
        },
        "outputId": "f17d640d-f88e-4e07-feb9-b411576771db"
      },
      "source": [
        "print(len(sentences))"
      ],
      "execution_count": 4,
      "outputs": [
        {
          "output_type": "stream",
          "text": [
            "26709\n"
          ],
          "name": "stdout"
        }
      ]
    },
    {
      "cell_type": "code",
      "metadata": {
        "id": "URv6YRhKBew_",
        "colab_type": "code",
        "colab": {}
      },
      "source": [
        "training_size = 20000"
      ],
      "execution_count": 0,
      "outputs": []
    },
    {
      "cell_type": "code",
      "metadata": {
        "id": "1tFFfDpfBXdq",
        "colab_type": "code",
        "colab": {}
      },
      "source": [
        "#Training and tesing data\n",
        "training_sentences = sentences[0:training_size]\n",
        "training_labels = labels[0:training_size]\n",
        "testing_sentences = sentences[training_size:]\n",
        "testing_labels = labels[training_size:]"
      ],
      "execution_count": 0,
      "outputs": []
    },
    {
      "cell_type": "code",
      "metadata": {
        "id": "nY1hgD1S-1ET",
        "colab_type": "code",
        "colab": {}
      },
      "source": [
        "#defining hyperparameters\n",
        "vocab_size = 1000\n",
        "embedding_dim  = 16\n",
        "max_length = 32\n",
        "trunc_type = 'post'\n",
        "padding_type = 'post'\n",
        "oov_token = \"<00V>\""
      ],
      "execution_count": 0,
      "outputs": []
    },
    {
      "cell_type": "code",
      "metadata": {
        "id": "d9WK4m87_ISL",
        "colab_type": "code",
        "colab": {}
      },
      "source": [
        "#Tokeninzing the data and Padding\n",
        "from tensorflow.keras.preprocessing.text import Tokenizer\n",
        "from tensorflow.keras.preprocessing.sequence import pad_sequences\n",
        "\n",
        "tokenizer = Tokenizer(num_words = vocab_size , oov_token = oov_token)\n",
        "tokenizer.fit_on_texts(training_sentences)\n",
        "\n",
        "word_index = tokenizer.word_index\n",
        "sequences = tokenizer.texts_to_sequences(training_sentences)\n",
        "padded = pad_sequences(sequences,maxlen = max_length,truncating = trunc_type)\n",
        "\n",
        "training_sequences = tokenizer.texts_to_sequences(training_sentences)\n",
        "training_padded = pad_sequences(training_sequences,maxlen = max_length,padding = padding_type,truncating = trunc_type)\n",
        "\n",
        "testing_sequences = tokenizer.texts_to_sequences(testing_sentences)\n",
        "testing_padded = pad_sequences(testing_sequences,maxlen = max_length,padding = padding_type,truncating = trunc_type)"
      ],
      "execution_count": 0,
      "outputs": []
    },
    {
      "cell_type": "code",
      "metadata": {
        "id": "FX0T7OYJAsON",
        "colab_type": "code",
        "colab": {}
      },
      "source": [
        "#define the model for neural network\n",
        "import tensorflow as tf\n",
        "model = tf.keras.Sequential([\n",
        "    tf.keras.layers.Embedding(vocab_size,embedding_dim,input_length = max_length),\n",
        "    tf.keras.layers.GlobalAveragePooling1D(),\n",
        "    tf.keras.layers.Dense(24, activation = 'relu'),\n",
        "    tf.keras.layers.Dense(1,activation = 'sigmoid')\n",
        "])"
      ],
      "execution_count": 0,
      "outputs": []
    },
    {
      "cell_type": "code",
      "metadata": {
        "id": "V-vNj21MBEm9",
        "colab_type": "code",
        "outputId": "f6a80760-13ca-46b4-9e27-21a30c02872e",
        "colab": {
          "base_uri": "https://localhost:8080/",
          "height": 360
        }
      },
      "source": [
        "#Compile the model and printing the summary\n",
        "model.compile(loss='binary_crossentropy',optimizer='adam',metrics = ['accuracy'])\n",
        "model.summary()"
      ],
      "execution_count": 10,
      "outputs": [
        {
          "output_type": "stream",
          "text": [
            "WARNING:tensorflow:From /usr/local/lib/python3.6/dist-packages/tensorflow/python/ops/nn_impl.py:180: add_dispatch_support.<locals>.wrapper (from tensorflow.python.ops.array_ops) is deprecated and will be removed in a future version.\n",
            "Instructions for updating:\n",
            "Use tf.where in 2.0, which has the same broadcast rule as np.where\n",
            "Model: \"sequential\"\n",
            "_________________________________________________________________\n",
            "Layer (type)                 Output Shape              Param #   \n",
            "=================================================================\n",
            "embedding (Embedding)        (None, 32, 16)            16000     \n",
            "_________________________________________________________________\n",
            "global_average_pooling1d (Gl (None, 16)                0         \n",
            "_________________________________________________________________\n",
            "dense (Dense)                (None, 24)                408       \n",
            "_________________________________________________________________\n",
            "dense_1 (Dense)              (None, 1)                 25        \n",
            "=================================================================\n",
            "Total params: 16,433\n",
            "Trainable params: 16,433\n",
            "Non-trainable params: 0\n",
            "_________________________________________________________________\n"
          ],
          "name": "stdout"
        }
      ]
    },
    {
      "cell_type": "code",
      "metadata": {
        "id": "lm82rc2YBXQB",
        "colab_type": "code",
        "colab": {}
      },
      "source": [
        "num_epochs = 50"
      ],
      "execution_count": 0,
      "outputs": []
    },
    {
      "cell_type": "code",
      "metadata": {
        "id": "UcUbXS0sBQTs",
        "colab_type": "code",
        "outputId": "e1f6f863-2e0e-4a9d-aa28-13be84996609",
        "colab": {
          "base_uri": "https://localhost:8080/",
          "height": 1000
        }
      },
      "source": [
        "#training the data\n",
        "history = model.fit(training_padded,training_labels,epochs = num_epochs,validation_data = (testing_padded,testing_labels),verbose = 2)"
      ],
      "execution_count": 13,
      "outputs": [
        {
          "output_type": "stream",
          "text": [
            "Train on 20000 samples, validate on 6709 samples\n",
            "Epoch 1/50\n",
            "20000/20000 - 1s - loss: 0.5683 - acc: 0.6927 - val_loss: 0.4443 - val_acc: 0.7882\n",
            "Epoch 2/50\n",
            "20000/20000 - 1s - loss: 0.3936 - acc: 0.8200 - val_loss: 0.4046 - val_acc: 0.8091\n",
            "Epoch 3/50\n",
            "20000/20000 - 1s - loss: 0.3681 - acc: 0.8336 - val_loss: 0.4031 - val_acc: 0.8149\n",
            "Epoch 4/50\n",
            "20000/20000 - 1s - loss: 0.3602 - acc: 0.8375 - val_loss: 0.4045 - val_acc: 0.8074\n",
            "Epoch 5/50\n",
            "20000/20000 - 1s - loss: 0.3555 - acc: 0.8383 - val_loss: 0.4071 - val_acc: 0.8146\n",
            "Epoch 6/50\n",
            "20000/20000 - 1s - loss: 0.3531 - acc: 0.8396 - val_loss: 0.4092 - val_acc: 0.8141\n",
            "Epoch 7/50\n",
            "20000/20000 - 1s - loss: 0.3527 - acc: 0.8380 - val_loss: 0.4037 - val_acc: 0.8161\n",
            "Epoch 8/50\n",
            "20000/20000 - 1s - loss: 0.3511 - acc: 0.8393 - val_loss: 0.4048 - val_acc: 0.8141\n",
            "Epoch 9/50\n",
            "20000/20000 - 1s - loss: 0.3503 - acc: 0.8406 - val_loss: 0.4065 - val_acc: 0.8134\n",
            "Epoch 10/50\n",
            "20000/20000 - 1s - loss: 0.3487 - acc: 0.8429 - val_loss: 0.4085 - val_acc: 0.8123\n",
            "Epoch 11/50\n",
            "20000/20000 - 1s - loss: 0.3489 - acc: 0.8411 - val_loss: 0.4058 - val_acc: 0.8140\n",
            "Epoch 12/50\n",
            "20000/20000 - 1s - loss: 0.3483 - acc: 0.8410 - val_loss: 0.4081 - val_acc: 0.8109\n",
            "Epoch 13/50\n",
            "20000/20000 - 1s - loss: 0.3477 - acc: 0.8417 - val_loss: 0.4074 - val_acc: 0.8125\n",
            "Epoch 14/50\n",
            "20000/20000 - 1s - loss: 0.3466 - acc: 0.8421 - val_loss: 0.4079 - val_acc: 0.8131\n",
            "Epoch 15/50\n",
            "20000/20000 - 1s - loss: 0.3467 - acc: 0.8424 - val_loss: 0.4077 - val_acc: 0.8109\n",
            "Epoch 16/50\n",
            "20000/20000 - 1s - loss: 0.3454 - acc: 0.8419 - val_loss: 0.4066 - val_acc: 0.8120\n",
            "Epoch 17/50\n",
            "20000/20000 - 1s - loss: 0.3442 - acc: 0.8440 - val_loss: 0.4208 - val_acc: 0.8086\n",
            "Epoch 18/50\n",
            "20000/20000 - 1s - loss: 0.3427 - acc: 0.8454 - val_loss: 0.4048 - val_acc: 0.8140\n",
            "Epoch 19/50\n",
            "20000/20000 - 1s - loss: 0.3405 - acc: 0.8446 - val_loss: 0.4050 - val_acc: 0.8109\n",
            "Epoch 20/50\n",
            "20000/20000 - 1s - loss: 0.3383 - acc: 0.8454 - val_loss: 0.4003 - val_acc: 0.8137\n",
            "Epoch 21/50\n",
            "20000/20000 - 1s - loss: 0.3357 - acc: 0.8475 - val_loss: 0.4076 - val_acc: 0.8149\n",
            "Epoch 22/50\n",
            "20000/20000 - 1s - loss: 0.3337 - acc: 0.8466 - val_loss: 0.3994 - val_acc: 0.8188\n",
            "Epoch 23/50\n",
            "20000/20000 - 1s - loss: 0.3323 - acc: 0.8489 - val_loss: 0.3979 - val_acc: 0.8159\n",
            "Epoch 24/50\n",
            "20000/20000 - 1s - loss: 0.3291 - acc: 0.8515 - val_loss: 0.4025 - val_acc: 0.8123\n",
            "Epoch 25/50\n",
            "20000/20000 - 1s - loss: 0.3273 - acc: 0.8526 - val_loss: 0.4010 - val_acc: 0.8189\n",
            "Epoch 26/50\n",
            "20000/20000 - 1s - loss: 0.3252 - acc: 0.8554 - val_loss: 0.3979 - val_acc: 0.8177\n",
            "Epoch 27/50\n",
            "20000/20000 - 1s - loss: 0.3232 - acc: 0.8546 - val_loss: 0.4021 - val_acc: 0.8198\n",
            "Epoch 28/50\n",
            "20000/20000 - 1s - loss: 0.3214 - acc: 0.8566 - val_loss: 0.4027 - val_acc: 0.8159\n",
            "Epoch 29/50\n",
            "20000/20000 - 1s - loss: 0.3187 - acc: 0.8573 - val_loss: 0.3987 - val_acc: 0.8192\n",
            "Epoch 30/50\n",
            "20000/20000 - 1s - loss: 0.3178 - acc: 0.8592 - val_loss: 0.3998 - val_acc: 0.8219\n",
            "Epoch 31/50\n",
            "20000/20000 - 1s - loss: 0.3161 - acc: 0.8594 - val_loss: 0.3988 - val_acc: 0.8202\n",
            "Epoch 32/50\n",
            "20000/20000 - 1s - loss: 0.3133 - acc: 0.8610 - val_loss: 0.4015 - val_acc: 0.8198\n",
            "Epoch 33/50\n",
            "20000/20000 - 1s - loss: 0.3123 - acc: 0.8614 - val_loss: 0.4021 - val_acc: 0.8182\n",
            "Epoch 34/50\n",
            "20000/20000 - 1s - loss: 0.3113 - acc: 0.8604 - val_loss: 0.4072 - val_acc: 0.8186\n",
            "Epoch 35/50\n",
            "20000/20000 - 1s - loss: 0.3096 - acc: 0.8638 - val_loss: 0.4040 - val_acc: 0.8216\n",
            "Epoch 36/50\n",
            "20000/20000 - 1s - loss: 0.3085 - acc: 0.8633 - val_loss: 0.4074 - val_acc: 0.8165\n",
            "Epoch 37/50\n",
            "20000/20000 - 1s - loss: 0.3068 - acc: 0.8648 - val_loss: 0.4051 - val_acc: 0.8185\n",
            "Epoch 38/50\n",
            "20000/20000 - 1s - loss: 0.3056 - acc: 0.8656 - val_loss: 0.4115 - val_acc: 0.8165\n",
            "Epoch 39/50\n",
            "20000/20000 - 1s - loss: 0.3044 - acc: 0.8675 - val_loss: 0.4064 - val_acc: 0.8179\n",
            "Epoch 40/50\n",
            "20000/20000 - 1s - loss: 0.3042 - acc: 0.8648 - val_loss: 0.4142 - val_acc: 0.8149\n",
            "Epoch 41/50\n",
            "20000/20000 - 1s - loss: 0.3027 - acc: 0.8680 - val_loss: 0.4083 - val_acc: 0.8214\n",
            "Epoch 42/50\n",
            "20000/20000 - 1s - loss: 0.3015 - acc: 0.8684 - val_loss: 0.4103 - val_acc: 0.8213\n",
            "Epoch 43/50\n",
            "20000/20000 - 1s - loss: 0.3013 - acc: 0.8691 - val_loss: 0.4156 - val_acc: 0.8146\n",
            "Epoch 44/50\n",
            "20000/20000 - 1s - loss: 0.2996 - acc: 0.8673 - val_loss: 0.4133 - val_acc: 0.8193\n",
            "Epoch 45/50\n",
            "20000/20000 - 1s - loss: 0.2993 - acc: 0.8694 - val_loss: 0.4152 - val_acc: 0.8177\n",
            "Epoch 46/50\n",
            "20000/20000 - 1s - loss: 0.2984 - acc: 0.8680 - val_loss: 0.4145 - val_acc: 0.8186\n",
            "Epoch 47/50\n",
            "20000/20000 - 1s - loss: 0.2973 - acc: 0.8706 - val_loss: 0.4334 - val_acc: 0.8056\n",
            "Epoch 48/50\n",
            "20000/20000 - 1s - loss: 0.2967 - acc: 0.8704 - val_loss: 0.4192 - val_acc: 0.8180\n",
            "Epoch 49/50\n",
            "20000/20000 - 1s - loss: 0.2969 - acc: 0.8698 - val_loss: 0.4190 - val_acc: 0.8186\n",
            "Epoch 50/50\n",
            "20000/20000 - 1s - loss: 0.2963 - acc: 0.8702 - val_loss: 0.4315 - val_acc: 0.8074\n"
          ],
          "name": "stdout"
        }
      ]
    },
    {
      "cell_type": "code",
      "metadata": {
        "id": "PcFPa0PzCVut",
        "colab_type": "code",
        "colab": {}
      },
      "source": [
        "#Plotting the graphs\n",
        "import matplotlib.pyplot as plt\n",
        "def plot_graphs(history,string):\n",
        "  plt.plot(history.history[string])\n",
        "  plt.plot(history.history['val_'+string])\n",
        "  plt.xlabel(\"Epochs\")\n",
        "  plt.ylabel(string)\n",
        "  plt.legend([string],'val_'+string)\n",
        "  plt.show()"
      ],
      "execution_count": 0,
      "outputs": []
    },
    {
      "cell_type": "code",
      "metadata": {
        "id": "FOfcX2sMDD1C",
        "colab_type": "code",
        "outputId": "8614d0f3-2f1f-4c37-a747-0cb156f59397",
        "colab": {
          "base_uri": "https://localhost:8080/",
          "height": 705
        }
      },
      "source": [
        "plot_graphs(history,\"acc\")\n",
        "plot_graphs(history,\"loss\")"
      ],
      "execution_count": 43,
      "outputs": [
        {
          "output_type": "stream",
          "text": [
            "/usr/local/lib/python3.6/dist-packages/matplotlib/legend.py:798: UserWarning: Legend does not support 'acc' instances.\n",
            "A proxy artist may be used instead.\n",
            "See: http://matplotlib.org/users/legend_guide.html#creating-artists-specifically-for-adding-to-the-legend-aka-proxy-artists\n",
            "  \"aka-proxy-artists\".format(orig_handle)\n"
          ],
          "name": "stderr"
        },
        {
          "output_type": "display_data",
          "data": {
            "image/png": "[encoded data removed]",
            "text/plain": [
              "<Figure size 432x288 with 1 Axes>"
            ]
          },
          "metadata": {
            "tags": []
          }
        },
        {
          "output_type": "stream",
          "text": [
            "/usr/local/lib/python3.6/dist-packages/matplotlib/legend.py:798: UserWarning: Legend does not support 'loss' instances.\n",
            "A proxy artist may be used instead.\n",
            "See: http://matplotlib.org/users/legend_guide.html#creating-artists-specifically-for-adding-to-the-legend-aka-proxy-artists\n",
            "  \"aka-proxy-artists\".format(orig_handle)\n"
          ],
          "name": "stderr"
        },
        {
          "output_type": "display_data",
          "data": {
            "image/png": "[encoded data removed]",
            "text/plain": [
              "<Figure size 432x288 with 1 Axes>"
            ]
          },
          "metadata": {
            "tags": []
          }
        }
      ]
    },
    {
      "cell_type": "code",
      "metadata": {
        "id": "OsFHo_oPDNWN",
        "colab_type": "code",
        "outputId": "3f2a28b7-314e-49c6-91e0-f20fdc5b203f",
        "colab": {
          "base_uri": "https://localhost:8080/",
          "height": 1000
        }
      },
      "source": [
        "#Testing the output from testing sentences\n",
        "import numpy\n",
        "acc = 0\n",
        "ran = 30\n",
        "for i in range(ran):\n",
        "  rev = testing_sentences[i]\n",
        "  tokenizer.fit_on_texts(rev)\n",
        "  word_index = tokenizer.word_index\n",
        "  sequences = tokenizer.texts_to_sequences(rev)\n",
        "  pod = pad_sequences(sequences,maxlen = max_length,truncating = trunc_type)\n",
        "  review = pod[0]\n",
        "  print(\"Text: \",rev)\n",
        "  ytest_prediction = model.predict(pod)\n",
        "  rou = numpy.round_(ytest_prediction[0])\n",
        "  if testing_labels[i]== 1:\n",
        "    print(\"Actual: Sarcastic\")\n",
        "  else:\n",
        "    print(\"Actual: Not Sarcastic\")\n",
        "  if rou[0] == 1:\n",
        "    print(\"Predicted: Sarcastic\")\n",
        "  else:\n",
        "    print(\"Predicted: Not Sarcastic\")\n"
      ],
      "execution_count": 29,
      "outputs": [
        {
          "output_type": "stream",
          "text": [
            "Text:  pediatricians announce 2011 newborns are ugliest babies in 30 years\n",
            "Actual: Sarcastic\n",
            "Predicted: Sarcastic\n",
            "Text:  don't rely on your fitness tracker to lose weight\n",
            "Actual: Not Sarcastic\n",
            "Predicted: Sarcastic\n",
            "Text:  you might want to cut back on the soap\n",
            "Actual: Not Sarcastic\n",
            "Predicted: Sarcastic\n",
            "Text:  bausch & lomb introduces line of aviator contacts\n",
            "Actual: Sarcastic\n",
            "Predicted: Sarcastic\n",
            "Text:  7 everyday habits for glowing, younger-looking skin\n",
            "Actual: Not Sarcastic\n",
            "Predicted: Sarcastic\n",
            "Text:  report: sky normal today\n",
            "Actual: Sarcastic\n",
            "Predicted: Not Sarcastic\n",
            "Text:  bernie sanders to propose new rule requiring fair prices for taxpayer-funded drugs\n",
            "Actual: Not Sarcastic\n",
            "Predicted: Sarcastic\n",
            "Text:  friend who listened to podcast on watergate bursts into conversation with guns fucking blazing\n",
            "Actual: Sarcastic\n",
            "Predicted: Not Sarcastic\n",
            "Text:  economists warn new graduates may have to tough it out for 5 to 6 weeks before landing dream job\n",
            "Actual: Sarcastic\n",
            "Predicted: Sarcastic\n",
            "Text:  how the uk is strengthening interfaith bonds after paris attacks\n",
            "Actual: Not Sarcastic\n",
            "Predicted: Not Sarcastic\n",
            "Text:  historical archives: dances you may wish to try\n",
            "Actual: Sarcastic\n",
            "Predicted: Not Sarcastic\n",
            "Text:  god seeking to crack down on souls smuggling drugs into heaven\n",
            "Actual: Sarcastic\n",
            "Predicted: Sarcastic\n",
            "Text:  this 'brilliant' new technology could spell the demise of the flu shot\n",
            "Actual: Not Sarcastic\n",
            "Predicted: Not Sarcastic\n",
            "Text:  confronting isil: the day and decade \"after\"\n",
            "Actual: Not Sarcastic\n",
            "Predicted: Not Sarcastic\n",
            "Text:  mark zuckerberg continues to insist facebook could not possibly have influenced election\n",
            "Actual: Not Sarcastic\n",
            "Predicted: Not Sarcastic\n",
            "Text:  the controversial way some california schools are handling students' misbehavior\n",
            "Actual: Not Sarcastic\n",
            "Predicted: Not Sarcastic\n",
            "Text:  proposed immigration law calls for u.s. to shut down border slide\n",
            "Actual: Sarcastic\n",
            "Predicted: Sarcastic\n",
            "Text:  bill up and dies in tennessee legislature\n",
            "Actual: Sarcastic\n",
            "Predicted: Sarcastic\n",
            "Text:  tina fey tells the 'most american white lady story' in new movie, 'whiskey tango foxtrot'\n",
            "Actual: Not Sarcastic\n",
            "Predicted: Not Sarcastic\n",
            "Text:  hydra decides to see doctor about painful ingrown head\n",
            "Actual: Sarcastic\n",
            "Predicted: Not Sarcastic\n",
            "Text:  7 things every homeowner should do before going on vacation\n",
            "Actual: Not Sarcastic\n",
            "Predicted: Sarcastic\n",
            "Text:  hillary clinton hints at presidential ambitions by concealing information from american people\n",
            "Actual: Sarcastic\n",
            "Predicted: Not Sarcastic\n",
            "Text:  woman agrees to pay for wrong lottery ticket, then wins $5 million\n",
            "Actual: Not Sarcastic\n",
            "Predicted: Not Sarcastic\n",
            "Text:  it is not all farm to table\n",
            "Actual: Not Sarcastic\n",
            "Predicted: Sarcastic\n",
            "Text:  puppy dies adorable death\n",
            "Actual: Sarcastic\n",
            "Predicted: Sarcastic\n",
            "Text:  north korean prisoners temporarily put into american detention camp to help ease shock of return\n",
            "Actual: Sarcastic\n",
            "Predicted: Sarcastic\n",
            "Text:  the truly uncool thing 'transformers 5' does to anthony hopkins\n",
            "Actual: Not Sarcastic\n",
            "Predicted: Not Sarcastic\n",
            "Text:  mourners unable to comprehend last 20 minutes of kubrick's life\n",
            "Actual: Sarcastic\n",
            "Predicted: Not Sarcastic\n",
            "Text:  why eating salmon is so damn good for your skin\n",
            "Actual: Not Sarcastic\n",
            "Predicted: Not Sarcastic\n",
            "Text:  excited white house staffer sends parents 'new york times' article quoting her as anonymous source\n",
            "Actual: Sarcastic\n",
            "Predicted: Sarcastic\n"
          ],
          "name": "stdout"
        }
      ]
    },
    {
      "cell_type": "code",
      "metadata": {
        "id": "c4UsSmfMzQEt",
        "colab_type": "code",
        "colab": {
          "base_uri": "https://localhost:8080/",
          "height": 68
        },
        "outputId": "68b3340a-ddb8-4776-8f91-4561c8e6e192"
      },
      "source": [
        "#Custom input\n",
        "text = input(\"Enter the text :\")\n",
        "tokenizer.fit_on_texts(text)\n",
        "word_index = tokenizer.word_index\n",
        "sequences = tokenizer.texts_to_sequences(text)\n",
        "pod = pad_sequences(sequences,maxlen = max_length,truncating = trunc_type)\n",
        "review = pod[0]\n",
        "print(\"Text: \",text)\n",
        "ytest_prediction = model.predict(pod)\n",
        "rou = numpy.round_(ytest_prediction[0])\n",
        "if rou[0] == 1:\n",
        "    print(\"Predicted: Sarcastic\")\n",
        "else:\n",
        "    print(\"Predicted: Not Sarcastic\")"
      ],
      "execution_count": 36,
      "outputs": [
        {
          "output_type": "stream",
          "text": [
            "Enter the text :I thought you had brains!\n",
            "Text:  I thought you had brains!\n",
            "Predicted: Sarcastic\n"
          ],
          "name": "stdout"
        }
      ]
    }
  ]
}